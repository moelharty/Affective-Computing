{
 "cells": [
  {
   "cell_type": "code",
   "execution_count": null,
   "metadata": {},
   "outputs": [],
   "source": [
    "import numpy as np\n",
    "import pandas as pd\n",
    "import seaborn as sns\n",
    "import matplotlib.pyplot as plt\n",
    "from numpy import mean\n",
    "import plotly.express as px\n",
    "import altair as alt\n",
    "from altair import Chart\n",
    "alt.data_transformers.disable_max_rows()"
   ]
  },
  {
   "cell_type": "code",
   "execution_count": null,
   "metadata": {},
   "outputs": [],
   "source": [
    "df_features = pd.read_csv('dataset/phase_2_TRAIN_ab71fa4d86c94323_05dcbf4_MLPC2021_features_generic.csv')\n",
    "df_raw = pd.read_csv('dataset/phase_2_TRAIN_8d8d624e3190984c_05dcbf4_MLPC2021_raw_annotations_generic.csv')\n",
    "df_weka = df_features[\n",
    "    [\"id\", \"essentia_dissonance_mean\", \"essentia_dissonance_stdev\", \"essentia_dynamic_complexity\", \"essentia_loudness\",\n",
    "     \"essentia_onset_rate\", \"essentia_pitch_salience_mean\", \"essentia_pitch_salience_stdev\",\n",
    "     \"essentia_spectral_centroid_mean\", \"essentia_spectral_centroid_stdev\", \"essentia_spectral_complexity_mean\",\n",
    "     \"essentia_spectral_complexity_stdev\", \"essentia_spectral_rolloff_mean\", \"essentia_spectral_rolloff_stdev\",\n",
    "     \"essentia_strong_peak_mean\", \"essentia_strong_peak_stdev\", \"librosa_bpm\", \"librosa_chroma_mean_0\",\n",
    "     \"librosa_chroma_var_0\", \"librosa_chroma_pct_10_0\", \"librosa_chroma_pct_50_0\", \"librosa_chroma_pct_90_0\",\n",
    "     \"librosa_chroma_mean_1\", \"librosa_chroma_var_1\", \"librosa_chroma_pct_10_1\", \"librosa_chroma_pct_50_1\",\n",
    "     \"librosa_chroma_pct_90_1\", \"librosa_chroma_mean_2\", \"librosa_chroma_var_2\", \"librosa_chroma_pct_10_2\",\n",
    "     \"librosa_chroma_pct_50_2\", \"librosa_chroma_pct_90_2\", \"librosa_chroma_mean_3\", \"librosa_chroma_var_3\",\n",
    "     \"librosa_chroma_pct_10_3\", \"librosa_chroma_pct_50_3\", \"librosa_chroma_pct_90_3\", \"librosa_chroma_mean_4\",\n",
    "     \"librosa_chroma_var_4\", \"librosa_chroma_pct_10_4\", \"librosa_chroma_pct_50_4\", \"librosa_chroma_pct_90_4\",\n",
    "     \"librosa_chroma_mean_5\", \"librosa_chroma_var_5\", \"librosa_chroma_pct_10_5\", \"librosa_chroma_pct_50_5\",\n",
    "     \"librosa_chroma_pct_90_5\", \"librosa_chroma_mean_6\", \"librosa_chroma_var_6\", \"librosa_chroma_pct_10_6\",\n",
    "     \"librosa_chroma_pct_50_6\", \"librosa_chroma_pct_90_6\", \"librosa_chroma_mean_7\", \"librosa_chroma_var_7\",\n",
    "     \"librosa_chroma_pct_10_7\", \"librosa_chroma_pct_50_7\", \"librosa_chroma_pct_90_7\", \"librosa_chroma_mean_8\",\n",
    "     \"librosa_chroma_var_8\", \"librosa_chroma_pct_10_8\", \"librosa_chroma_pct_50_8\", \"librosa_chroma_pct_90_8\",\n",
    "     \"librosa_chroma_mean_9\", \"librosa_chroma_var_9\", \"librosa_chroma_pct_10_9\", \"librosa_chroma_pct_50_9\",\n",
    "     \"librosa_chroma_pct_90_9\", \"librosa_chroma_mean_10\", \"librosa_chroma_var_10\", \"librosa_chroma_pct_10\",\n",
    "     \"librosa_chroma_pct_50_10\", \"librosa_chroma_pct_90_10\", \"librosa_chroma_mean_11\", \"librosa_chroma_var_11\",\n",
    "     \"librosa_chroma_pct_10_11\", \"librosa_chroma_pct_50_11\", \"librosa_chroma_pct_90_11\",\n",
    "     \"librosa_spectral_bandwidth_mean\", \"librosa_spectral_bandwidth_stdev\", \"librosa_spectral_flatness_mean\",\n",
    "     \"librosa_spectral_flatness_stdev\", \"midlevel_features_melody\", \"midlevel_features_articulation\",\n",
    "     \"midlevel_features_rhythm_complexity\", \"midlevel_features_rhythm_stability\", \"midlevel_features_dissonance\",\n",
    "     \"midlevel_features_tonal_stability\", \"midlevel_features_minorness\", \"score_mode\", \"score_key_strength\"\n",
    "     ]].copy()\n",
    "\n",
    "df_weka['pianist'] = df_weka.apply(lambda row: row.id[0:2], axis=1)\n",
    "df_weka['piece'] = df_weka.apply(lambda row: int(row.id[3:5]), axis=1)\n",
    "df_weka['counter'] = df_weka.apply(lambda row: int(row.id[6:9]), axis=1)\n",
    "\n",
    "df_new = pd.merge(df_weka, df_raw, how='left', on=['pianist', 'piece'])\n",
    "\n",
    "#Up right\n",
    "df_new.loc[( (df_new['arousal'] > 50) & (df_new['arousal'] < 70) & (df_new['valence'] > 3) ), 'class'] = 'Happy'\n",
    "df_new.loc[( (df_new['arousal'] > 70) & (df_new['valence'] > 3) ), 'class'] = 'Thrilled'\n",
    "df_new.loc[( (df_new['arousal'] > 65) & (df_new['arousal'] < 90) & (df_new['valence'] > 1) & (df_new['valence'] < 4) ), 'class'] = 'Excited'\n",
    "\n",
    "\n",
    "#up left\n",
    "df_new.loc[( (df_new['arousal'] > 70) & (df_new['arousal'] < 100) & (df_new['valence'] <0) & (df_new['valence'] > -2) ), 'class'] = 'Angry'\n",
    "df_new.loc[( (df_new['arousal'] > 70) & (df_new['arousal'] < 100) & (df_new['valence'] > -4) & (df_new['valence'] < -2) ), 'class'] = 'Afraid'\n",
    "df_new.loc[( (df_new['arousal'] > 50) & (df_new['arousal'] < 75) & (df_new['valence'] > -5) & (df_new['valence'] < -3) ), 'class'] = 'Frustrated'\n",
    "\n",
    "#down left\n",
    "df_new.loc[( (df_new['arousal'] > 35) & (df_new['arousal'] < 50) & (df_new['valence'] >-5) & (df_new['valence'] <-3) ), 'class'] = 'Miserable'\n",
    "df_new.loc[( (df_new['arousal'] > 25) & (df_new['arousal'] < 40) & (df_new['valence'] > -4) & (df_new['valence'] < -2) ), 'class'] = 'Sad'\n",
    "df_new.loc[( (df_new['arousal'] < 20) & (df_new['valence'] > -2) & (df_new['valence'] < 0) ), 'class'] = 'Tired'\n",
    "\n",
    "#up left\n",
    "df_new.loc[( (df_new['arousal'] < 20) & (df_new['valence'] > 0) & (df_new['valence'] < 2) ), 'class'] = 'Sleepy'\n",
    "df_new.loc[( (df_new['arousal'] > 20) & (df_new['arousal'] < 35) & (df_new['valence'] > 2) & (df_new['valence'] < 3.5) ), 'class'] = 'Relaxed'\n",
    "df_new.loc[( (df_new['arousal'] > 35) & (df_new['arousal'] < 50) & (df_new['valence'] > 3.5)), 'class'] = 'Pleased'\n",
    "\n",
    "df=df_new"
   ]
  },
  {
   "cell_type": "code",
   "execution_count": null,
   "metadata": {},
   "outputs": [],
   "source": [
    "df"
   ]
  },
  {
   "cell_type": "code",
   "execution_count": null,
   "metadata": {},
   "outputs": [],
   "source": [
    "df=df.dropna()\n",
    "df\n",
    "#feature=['arousal','valence','class','pianist','score_key_strength','score_mode']\n",
    "#df=df[feature]\n"
   ]
  },
  {
   "cell_type": "code",
   "execution_count": null,
   "metadata": {},
   "outputs": [],
   "source": [
    "df['class'].value_counts()"
   ]
  },
  {
   "cell_type": "code",
   "execution_count": null,
   "metadata": {},
   "outputs": [],
   "source": [
    "\n",
    "alt.Chart(df).mark_circle(size=60).encode(\n",
    "    x='valence',\n",
    "    y='arousal',\n",
    "    color='class',\n",
    "    tooltip=['piece', 'pianist', 'student', 'class']\n",
    ").interactive()\n"
   ]
  },
  {
   "cell_type": "code",
   "execution_count": null,
   "metadata": {},
   "outputs": [],
   "source": [
    "alt.Chart(df).mark_bar().encode(\n",
    "    x='class',\n",
    "    y= 'count(class):Q',\n",
    "    color='class')\n"
   ]
  },
  {
   "cell_type": "code",
   "execution_count": null,
   "metadata": {},
   "outputs": [],
   "source": [
    "_ = sns.pairplot(df[['arousal', 'valence','class','pianist','score_mode','essentia_onset_rate']], hue='class')"
   ]
  },
  {
   "cell_type": "code",
   "execution_count": null,
   "metadata": {},
   "outputs": [],
   "source": [
    "plt.rcParams.update({'font.size': 12})\n",
    "plt.figure(figsize = (12,8))\n",
    "ax=sns.lmplot(x='valence', y='arousal', data=df, hue='class', fit_reg=False)\n"
   ]
  },
  {
   "cell_type": "code",
   "execution_count": null,
   "metadata": {},
   "outputs": [],
   "source": [
    "fig = px.scatter(df\n",
    "                 , x =\"valence\"\n",
    "                 , y =\"arousal\"\n",
    "                 , animation_frame =\"piece\"\n",
    "                 , animation_group =\"pianist\"\n",
    "                 , color =\"class\"\n",
    "                 , hover_name =\"student\"\n",
    "                 , facet_col =\"pianist\"\n",
    "                 , size_max = 10\n",
    "                ) \n",
    "\n",
    "fig.update_yaxes(range=[0,120])\n",
    "fig.update_xaxes(range=[-10,10])\n",
    "fig.show()"
   ]
  }
 ],
 "metadata": {
  "kernelspec": {
   "display_name": "Python 3",
   "language": "python",
   "name": "python3"
  },
  "language_info": {
   "codemirror_mode": {
    "name": "ipython",
    "version": 3
   },
   "file_extension": ".py",
   "mimetype": "text/x-python",
   "name": "python",
   "nbconvert_exporter": "python",
   "pygments_lexer": "ipython3",
   "version": "3.7.7"
  }
 },
 "nbformat": 4,
 "nbformat_minor": 4
}
